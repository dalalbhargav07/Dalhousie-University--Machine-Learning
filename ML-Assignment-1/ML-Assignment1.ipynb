{
 "cells": [
  {
   "cell_type": "markdown",
   "metadata": {},
   "source": [
    "# ML-ASSIGNMENT 1"
   ]
  },
  {
   "cell_type": "markdown",
   "metadata": {
    "collapsed": true
   },
   "source": [
    "## Question 1 (TensorFlow)"
   ]
  },
  {
   "cell_type": "markdown",
   "metadata": {},
   "source": [
    "MNIST (http://yann.lecun.com/exdb/mnist/) is a famous dataset and benchmark for pattern recognition. It contains images of hand written numbers that are normalized and centered in a 28x28 pixel array. The data set was derived from a NIST (National Institute of Standards and Technology) data set, hence the acronym for Modified NIST. There are many ways to load this data set. An easy way is to use routines from tensorflow to load 50 images into a Python tuple with \n",
    "from tensorflow.examples.tutorials.mnist import input_data\n",
    "mnist = input_data.read_data_sets('MNIST_data', one_hot=True);\n",
    "batch = mnist.train.next_batch(50)\n",
    "\n",
    "** Write a program that displays some of these examples.**"
   ]
  },
  {
   "cell_type": "code",
   "execution_count": 1,
   "metadata": {},
   "outputs": [],
   "source": [
    "#Importing the tensorflow\n",
    "import tensorflow as tf"
   ]
  },
  {
   "cell_type": "code",
   "execution_count": 2,
   "metadata": {},
   "outputs": [
    {
     "name": "stdout",
     "output_type": "stream",
     "text": [
      "Extracting MNIST_data\\train-images-idx3-ubyte.gz\n",
      "Extracting MNIST_data\\train-labels-idx1-ubyte.gz\n",
      "Extracting MNIST_data\\t10k-images-idx3-ubyte.gz\n",
      "Extracting MNIST_data\\t10k-labels-idx1-ubyte.gz\n"
     ]
    }
   ],
   "source": [
    "from tensorflow.examples.tutorials.mnist import input_data \n",
    "\n",
    "mnist = input_data.read_data_sets('MNIST_data', one_hot=True)"
   ]
  },
  {
   "cell_type": "code",
   "execution_count": 3,
   "metadata": {},
   "outputs": [],
   "source": [
    "batch_X,batch_y = mnist.train.next_batch(1)"
   ]
  },
  {
   "cell_type": "code",
   "execution_count": 4,
   "metadata": {},
   "outputs": [],
   "source": [
    "#Importing matplotlib to display images\n",
    "import matplotlib.pyplot as plt\n",
    "#For printing the plot\n",
    "%matplotlib inline "
   ]
  },
  {
   "cell_type": "code",
   "execution_count": 5,
   "metadata": {},
   "outputs": [
    {
     "data": {
      "text/plain": [
       "<matplotlib.image.AxesImage at 0x2342816e7b8>"
      ]
     },
     "execution_count": 5,
     "metadata": {},
     "output_type": "execute_result"
    },
    {
     "data": {
      "image/png": "[encoded data removed]",
      "text/plain": [
       "<matplotlib.figure.Figure at 0x2342b100080>"
      ]
     },
     "metadata": {},
     "output_type": "display_data"
    }
   ],
   "source": [
    "plt.imshow(batch_X.reshape(28,28))"
   ]
  },
  {
   "cell_type": "code",
   "execution_count": 6,
   "metadata": {},
   "outputs": [
    {
     "data": {
      "text/plain": [
       "(784,)"
      ]
     },
     "execution_count": 6,
     "metadata": {},
     "output_type": "execute_result"
    }
   ],
   "source": [
    "mnist.train.images[2].shape"
   ]
  },
  {
   "cell_type": "code",
   "execution_count": 7,
   "metadata": {},
   "outputs": [],
   "source": [
    "img = mnist.train.images[2].reshape(28,28)"
   ]
  },
  {
   "cell_type": "code",
   "execution_count": 8,
   "metadata": {},
   "outputs": [
    {
     "data": {
      "text/plain": [
       "<matplotlib.image.AxesImage at 0x234281dcf60>"
      ]
     },
     "execution_count": 8,
     "metadata": {},
     "output_type": "execute_result"
    },
    {
     "data": {
      "image/png": "[encoded data removed]",
      "text/plain": [
       "<matplotlib.figure.Figure at 0x2342b0dffd0>"
      ]
     },
     "metadata": {},
     "output_type": "display_data"
    }
   ],
   "source": [
    "plt.imshow(img, cmap='gray')"
   ]
  },
  {
   "cell_type": "code",
   "execution_count": 9,
   "metadata": {},
   "outputs": [
    {
     "data": {
      "text/plain": [
       "<matplotlib.image.AxesImage at 0x2342821fcf8>"
      ]
     },
     "execution_count": 9,
     "metadata": {},
     "output_type": "execute_result"
    },
    {
     "data": {
      "image/png": "[encoded data removed]",
      "text/plain": [
       "<matplotlib.figure.Figure at 0x234281c9160>"
      ]
     },
     "metadata": {},
     "output_type": "display_data"
    }
   ],
   "source": [
    "img2 = mnist.train.images[2043].reshape(28,28)\n",
    "plt.imshow(img2, cmap='gray')"
   ]
  },
  {
   "cell_type": "markdown",
   "metadata": {},
   "source": [
    "# Question 2 (Cross-Validation):"
   ]
  },
  {
   "cell_type": "markdown",
   "metadata": {},
   "source": [
    "In the example code for the Iris data classification, we used 10-fold cross-validation to evaluate the accuracy of predictions with a linear SVM. In the example, we used the sklearn method model_selection.cross_val_score. "
   ]
  },
  {
   "cell_type": "markdown",
   "metadata": {},
   "source": [
    "**a. Explain briefly what k-fold cross validation is and what it is used for?**"
   ]
  },
  {
   "cell_type": "markdown",
   "metadata": {},
   "source": [
    "In k-Fold cross validation, the training dataset is divided into k equal parts. Each subset is called fold. Now, keep kth fold as validation set and rest k-1 folds as corss-validation training set. After that, apply the machine learning model to validation training set and calculate the accuracy of the model by validating the predicted result with the validation set. This process is repeated for k-times. Finally, it estimates the average of the machine learning model by averaging the accuracy obtained in all the k classes of cross validation."
   ]
  },
  {
   "cell_type": "markdown",
   "metadata": {},
   "source": [
    "The application of k-fold crossvalidation are:\n",
    "* It is helpful in comparing the performance of the different machine learning algorithms for the given data set,\n",
    "* It is also helpful in tunning the hyper-parameters of the machine learning algorithm.\n",
    "* It can also help to avoid the problem of machine learning algorithm to overfit the data."
   ]
  },
  {
   "cell_type": "markdown",
   "metadata": {},
   "source": [
    "** b. Write a script that does a k-fold cross-validation without using the cross_val_score function and compares the results with the sklearn function.**"
   ]
  },
  {
   "cell_type": "code",
   "execution_count": 11,
   "metadata": {},
   "outputs": [
    {
     "name": "stdout",
     "output_type": "stream",
     "text": [
      "Accuracy for Kfold script is: 96.667%\n"
     ]
    }
   ],
   "source": [
    "#Ignoring warnings\n",
    "import warnings\n",
    "warnings.filterwarnings('ignore')\n",
    "#Importing the numpy\n",
    "import numpy as np\n",
    "import matplotlib.pyplot as plt\n",
    "from sklearn.metrics import accuracy_score\n",
    "from sklearn import datasets \n",
    "iris = datasets.load_iris()\n",
    "#Loading the data set:\n",
    "X = iris.data\n",
    "y = iris.target\n",
    "\n",
    "#Creating objecy for SVM\n",
    "from sklearn.svm import SVC\n",
    "svc = SVC()\n",
    "\n",
    "#Function for K-Fold:\n",
    "from sklearn.cross_validation import KFold\n",
    "kf = KFold(len(X),10,shuffle = True,random_state=100)\n",
    "arr_mean = []\n",
    "\n",
    "for train_index, test_index in kf:\n",
    "    #print(\"Train INdex:\", train_index,\"test index:\",test_index)\n",
    "    \n",
    "    svc.fit(X[train_index], y[train_index])\n",
    "    prd = svc.predict(X[test_index])\n",
    "    acc_mean = accuracy_score(y[test_index], prd) \n",
    "    arr_mean.append(acc_mean)\n",
    "arr_mn = np.array(arr_mean).mean()\n",
    "\n",
    "print ('Accuracy for Kfold script is: %.3f'%(arr_mn*100) +'%')\n"
   ]
  },
  {
   "cell_type": "markdown",
   "metadata": {},
   "source": [
    "Now implementing the cross_val_score function for kfold cross validation."
   ]
  },
  {
   "cell_type": "code",
   "execution_count": 12,
   "metadata": {},
   "outputs": [
    {
     "name": "stdout",
     "output_type": "stream",
     "text": [
      "Accuracy obtained using cross_val_score: 98.000%\n"
     ]
    }
   ],
   "source": [
    "from sklearn.cross_validation import cross_val_score\n",
    "from sklearn.svm import SVC\n",
    "svc = SVC()\n",
    "arr_mean_cvs = cross_val_score(svc, X, y, cv = 10, scoring = 'accuracy')\n",
    "arr_mn_cvs = arr_mean_cvs.mean()\n",
    "print('Accuracy obtained using cross_val_score: %.3f'%(arr_mn_cvs*100) +'%')"
   ]
  },
  {
   "cell_type": "markdown",
   "metadata": {},
   "source": [
    "As you can see the accuracy for SVM model using cross_val_score is better than the kfold function which we have used. Hence, cross validation method can be more quick and effcient option for the performance of our model as the model will get more and more data for training."
   ]
  },
  {
   "cell_type": "markdown",
   "metadata": {},
   "source": [
    "## Question 3"
   ]
  },
  {
   "cell_type": "markdown",
   "metadata": {},
   "source": [
    "Please download the wine.zip file and extract it to the directory for this assignment. Read through the wine_names.txt file and come to understand the problem and the wine data contained in the wine.train dataset. Train one of the models SVM, MLP, or RF to develop the best possible model for classifying the wine data in the hold-out test data set of 58 records in the wine.test file given the training data. In other words, you must submit a list of 58 classifications (as a separate *.csv file) for the hold-out test set in the same order as received. We will use your answers to score how well your model performs."
   ]
  },
  {
   "cell_type": "code",
   "execution_count": 13,
   "metadata": {},
   "outputs": [],
   "source": [
    "#Importing the numpy\n",
    "import numpy as np\n",
    "import matplotlib.pyplot as plt\n",
    "from sklearn.metrics import accuracy_score\n",
    "wtrain = np.loadtxt('wine.train', delimiter = ',')\n",
    "wtrain_X = np.delete(wtrain,0,axis=1)\n",
    "wtrain_y = wtrain[:,0]\n",
    "\n",
    "wtest = np.loadtxt('wine.test',delimiter=',')\n",
    "wtest_X =  np.delete(wtest,0,axis=1)\n",
    "wtest_y = wtest[:,0]"
   ]
  },
  {
   "cell_type": "code",
   "execution_count": 14,
   "metadata": {},
   "outputs": [
    {
     "name": "stdout",
     "output_type": "stream",
     "text": [
      "Accuracy obtained using SVM: 92.500%\n",
      "Accuracy obtained using RFC: 98.333%\n"
     ]
    }
   ],
   "source": [
    "#Random Forest Classifier\n",
    "from sklearn.ensemble import RandomForestClassifier\n",
    "rfc = RandomForestClassifier(n_estimators=30)\n",
    "from sklearn.svm import SVC\n",
    "svc = SVC(kernel='linear')\n",
    "from sklearn.cross_validation import cross_val_score\n",
    "\n",
    "svc_mean = cross_val_score(svc, wtrain_X, wtrain_y, cv = 10, scoring = 'accuracy')\n",
    "svc_mn = svc_mean.mean()\n",
    "print('Accuracy obtained using SVM: %.3f'%(svc_mn*100) +'%')\n",
    "\n",
    "rfc_mean = cross_val_score(rfc, wtrain_X, wtrain_y, cv = 10, scoring = 'accuracy')\n",
    "rfc_mn = rfc_mean.mean()\n",
    "print('Accuracy obtained using RFC: %.3f'%(rfc_mn*100) +'%')\n",
    "\n"
   ]
  },
  {
   "cell_type": "code",
   "execution_count": 15,
   "metadata": {
    "scrolled": false
   },
   "outputs": [
    {
     "name": "stdout",
     "output_type": "stream",
     "text": [
      "WARNING:tensorflow:float64 is not supported by many models, consider casting to float32.\n",
      "INFO:tensorflow:Using default config.\n",
      "WARNING:tensorflow:Using temporary folder as model directory: C:\\Users\\dalal\\AppData\\Local\\Temp\\tmpw7yu4q80\n",
      "INFO:tensorflow:Using config: {'_environment': 'local', '_master': '', '_keep_checkpoint_every_n_hours': 10000, '_task_id': 0, '_is_chief': True, '_evaluation_master': '', '_log_step_count_steps': 100, '_save_checkpoints_secs': 600, '_save_summary_steps': 100, '_tf_random_seed': None, '_task_type': None, '_model_dir': 'C:\\\\Users\\\\dalal\\\\AppData\\\\Local\\\\Temp\\\\tmpw7yu4q80', '_num_worker_replicas': 0, '_session_config': None, '_cluster_spec': <tensorflow.python.training.server_lib.ClusterSpec object at 0x000002342E472F98>, '_tf_config': gpu_options {\n",
      "  per_process_gpu_memory_fraction: 1\n",
      "}\n",
      ", '_keep_checkpoint_max': 5, '_save_checkpoints_steps': None, '_num_ps_replicas': 0}\n",
      "WARNING:tensorflow:From <ipython-input-15-a50abb3c0652>:16: calling BaseEstimator.fit (from tensorflow.contrib.learn.python.learn.estimators.estimator) with x is deprecated and will be removed after 2016-12-01.\n",
      "Instructions for updating:\n",
      "Estimator is decoupled from Scikit Learn interface by moving into\n",
      "separate class SKCompat. Arguments x, y and batch_size are only\n",
      "available in the SKCompat class, Estimator will only accept input_fn.\n",
      "Example conversion:\n",
      "  est = Estimator(...) -> est = SKCompat(Estimator(...))\n",
      "WARNING:tensorflow:From <ipython-input-15-a50abb3c0652>:16: calling BaseEstimator.fit (from tensorflow.contrib.learn.python.learn.estimators.estimator) with y is deprecated and will be removed after 2016-12-01.\n",
      "Instructions for updating:\n",
      "Estimator is decoupled from Scikit Learn interface by moving into\n",
      "separate class SKCompat. Arguments x, y and batch_size are only\n",
      "available in the SKCompat class, Estimator will only accept input_fn.\n",
      "Example conversion:\n",
      "  est = Estimator(...) -> est = SKCompat(Estimator(...))\n",
      "WARNING:tensorflow:From <ipython-input-15-a50abb3c0652>:16: calling BaseEstimator.fit (from tensorflow.contrib.learn.python.learn.estimators.estimator) with batch_size is deprecated and will be removed after 2016-12-01.\n",
      "Instructions for updating:\n",
      "Estimator is decoupled from Scikit Learn interface by moving into\n",
      "separate class SKCompat. Arguments x, y and batch_size are only\n",
      "available in the SKCompat class, Estimator will only accept input_fn.\n",
      "Example conversion:\n",
      "  est = Estimator(...) -> est = SKCompat(Estimator(...))\n",
      "WARNING:tensorflow:float64 is not supported by many models, consider casting to float32.\n",
      "WARNING:tensorflow:From C:\\Users\\dalal\\AppData\\Local\\Continuum\\anaconda3\\envs\\tensorflow\\lib\\site-packages\\tensorflow\\contrib\\learn\\python\\learn\\estimators\\dnn.py:192: get_global_step (from tensorflow.contrib.framework.python.ops.variables) is deprecated and will be removed in a future version.\n",
      "Instructions for updating:\n",
      "Please switch to tf.train.get_global_step\n",
      "INFO:tensorflow:Create CheckpointSaverHook.\n",
      "INFO:tensorflow:Saving checkpoints for 1 into C:\\Users\\dalal\\AppData\\Local\\Temp\\tmpw7yu4q80\\model.ckpt.\n",
      "INFO:tensorflow:loss = 18.2541, step = 1\n",
      "INFO:tensorflow:global_step/sec: 429.132\n",
      "INFO:tensorflow:loss = 0.60163116, step = 101 (0.233 sec)\n",
      "INFO:tensorflow:global_step/sec: 487.079\n",
      "INFO:tensorflow:loss = 0.29478025, step = 201 (0.205 sec)\n",
      "INFO:tensorflow:global_step/sec: 506.436\n",
      "INFO:tensorflow:loss = 0.21505047, step = 301 (0.197 sec)\n",
      "INFO:tensorflow:global_step/sec: 458.299\n",
      "INFO:tensorflow:loss = 0.18557031, step = 401 (0.228 sec)\n",
      "INFO:tensorflow:global_step/sec: 499.075\n",
      "INFO:tensorflow:loss = 0.17448719, step = 501 (0.206 sec)\n",
      "INFO:tensorflow:global_step/sec: 468.097\n",
      "INFO:tensorflow:loss = 0.16405861, step = 601 (0.198 sec)\n",
      "INFO:tensorflow:global_step/sec: 499.134\n",
      "INFO:tensorflow:loss = 0.15416402, step = 701 (0.216 sec)\n",
      "INFO:tensorflow:global_step/sec: 468.313\n",
      "INFO:tensorflow:loss = 0.14680794, step = 801 (0.198 sec)\n",
      "INFO:tensorflow:global_step/sec: 489.051\n",
      "INFO:tensorflow:loss = 0.13863541, step = 901 (0.220 sec)\n",
      "INFO:tensorflow:global_step/sec: 471.149\n",
      "INFO:tensorflow:loss = 0.13348682, step = 1001 (0.217 sec)\n",
      "INFO:tensorflow:global_step/sec: 459.122\n",
      "INFO:tensorflow:loss = 0.12667572, step = 1101 (0.198 sec)\n",
      "INFO:tensorflow:global_step/sec: 500.474\n",
      "INFO:tensorflow:loss = 0.12519976, step = 1201 (0.218 sec)\n",
      "INFO:tensorflow:global_step/sec: 481.477\n",
      "INFO:tensorflow:loss = 0.11862479, step = 1301 (0.207 sec)\n",
      "INFO:tensorflow:global_step/sec: 468.452\n",
      "INFO:tensorflow:loss = 0.11557208, step = 1401 (0.196 sec)\n",
      "INFO:tensorflow:global_step/sec: 446.172\n",
      "INFO:tensorflow:loss = 0.11078284, step = 1501 (0.224 sec)\n",
      "INFO:tensorflow:global_step/sec: 485.382\n",
      "INFO:tensorflow:loss = 0.10284058, step = 1601 (0.222 sec)\n",
      "INFO:tensorflow:global_step/sec: 476.596\n",
      "INFO:tensorflow:loss = 0.10001104, step = 1701 (0.194 sec)\n",
      "INFO:tensorflow:global_step/sec: 473.549\n",
      "INFO:tensorflow:loss = 0.09704299, step = 1801 (0.211 sec)\n",
      "INFO:tensorflow:global_step/sec: 466.694\n",
      "INFO:tensorflow:loss = 0.09890804, step = 1901 (0.221 sec)\n",
      "INFO:tensorflow:Saving checkpoints for 2000 into C:\\Users\\dalal\\AppData\\Local\\Temp\\tmpw7yu4q80\\model.ckpt.\n",
      "INFO:tensorflow:Loss for final step: 0.09148645.\n",
      "WARNING:tensorflow:From C:\\Users\\dalal\\AppData\\Local\\Continuum\\anaconda3\\envs\\tensorflow\\lib\\site-packages\\tensorflow\\python\\util\\deprecation.py:381: calling DNNClassifier.predict (from tensorflow.contrib.learn.python.learn.estimators.dnn) with outputs=None is deprecated and will be removed after 2017-03-01.\n",
      "Instructions for updating:\n",
      "Please switch to predict_classes, or set `outputs` argument.\n",
      "WARNING:tensorflow:From C:\\Users\\dalal\\AppData\\Local\\Continuum\\anaconda3\\envs\\tensorflow\\lib\\site-packages\\tensorflow\\contrib\\learn\\python\\learn\\estimators\\dnn.py:454: calling BaseEstimator.predict (from tensorflow.contrib.learn.python.learn.estimators.estimator) with x is deprecated and will be removed after 2016-12-01.\n",
      "Instructions for updating:\n",
      "Estimator is decoupled from Scikit Learn interface by moving into\n",
      "separate class SKCompat. Arguments x, y and batch_size are only\n",
      "available in the SKCompat class, Estimator will only accept input_fn.\n",
      "Example conversion:\n",
      "  est = Estimator(...) -> est = SKCompat(Estimator(...))\n",
      "WARNING:tensorflow:float64 is not supported by many models, consider casting to float32.\n",
      "INFO:tensorflow:Restoring parameters from C:\\Users\\dalal\\AppData\\Local\\Temp\\tmpw7yu4q80\\model.ckpt-2000\n",
      "\n",
      "Accuracy obtained using MLP: 94.444%\n"
     ]
    }
   ],
   "source": [
    "import tensorflow as tf\n",
    "from sklearn.model_selection import train_test_split\n",
    "\n",
    "X=wtrain_X\n",
    "y=wtrain_y\n",
    "X_train, X_test, y_train, y_test = train_test_split(X, y, test_size=0.3)\n",
    "\n",
    "\n",
    "y_train = y_train.astype(int)\n",
    "#y_test = y_test.astype(int)\n",
    "\n",
    "\n",
    "feature_columns = tf.contrib.learn.infer_real_valued_columns_from_input(X_train)\n",
    "MLP = tf.contrib.learn.DNNClassifier(feature_columns=feature_columns, hidden_units=[10, 20, 10], n_classes=4)\n",
    "\n",
    "MLP.fit(X_train, y_train, steps=2000, batch_size=84)\n",
    "pred = list(MLP.predict(X_test))\n",
    "mlp_mn = accuracy_score(y_test,pred)\n",
    "print ('')\n",
    "print('Accuracy obtained using MLP: %.3f'%(mlp_mn*100) +'%')\n"
   ]
  },
  {
   "cell_type": "code",
   "execution_count": 17,
   "metadata": {},
   "outputs": [
    {
     "name": "stdout",
     "output_type": "stream",
     "text": [
      "Accuracies for Various Classification Model are:\n",
      "Support Vector Machine: 92.5\n",
      "Random Forest: 98.33333333333331\n",
      "Multi Layer Peceptrom: 94.44444444444444\n"
     ]
    },
    {
     "data": {
      "image/png": "[encoded data removed]",
      "text/plain": [
       "<matplotlib.figure.Figure at 0x234302b8a58>"
      ]
     },
     "metadata": {},
     "output_type": "display_data"
    }
   ],
   "source": [
    "print ('Accuracies for Various Classification Model are:')\n",
    "print ('Support Vector Machine:', svc_mn*100)\n",
    "print ('Random Forest:', rfc_mn*100)\n",
    "print ('Multi Layer Peceptrom:', mlp_mn*100)\n",
    "ar= np.array([svc_mn*100,rfc_mn*100,mlp_mn*100])\n",
    "x=['SVM','RFC','MLP']\n",
    "y=[svc_mn*100,rfc_mn*100,mlp_mn*100]\n",
    "nd = np.arange(3)\n",
    "width=0.2\n",
    "plt.xticks(nd-width/2., ('SVM','RFC','MLP'))\n",
    "fig = plt.bar(nd, y)\n",
    "\n",
    "plt.show()"
   ]
  },
  {
   "cell_type": "markdown",
   "metadata": {},
   "source": [
    "The first step for selecting the best model was to tune the parameter of each model. The approach for tunning the parameter of each was trial and error. Once the parameter was tuned, each model was applied on the data set using cross validation technique and then for each model, accuracy was calculated.  The  Random Forest Classifier (RFC) was the best performer among the varisous classification algortihm such as Support Vector Machine (SVM), and Multi Layer Perceptron (MLP). The accuracy was the measure considerd to choose the best among them. As can see from the plot, RFC has the highest accuracy and hence it is selected as best classification algorithm for wine dataset."
   ]
  },
  {
   "cell_type": "code",
   "execution_count": 18,
   "metadata": {},
   "outputs": [],
   "source": [
    "rfc.fit(wtrain_X,wtrain_y)\n",
    "pred = rfc.predict(wtest_X)\n",
    "np.savetxt('pred_wine.csv',pred)"
   ]
  }
 ],
 "metadata": {
  "kernelspec": {
   "display_name": "Python 3",
   "language": "python",
   "name": "python3"
  },
  "language_info": {
   "codemirror_mode": {
    "name": "ipython",
    "version": 3
   },
   "file_extension": ".py",
   "mimetype": "text/x-python",
   "name": "python",
   "nbconvert_exporter": "python",
   "pygments_lexer": "ipython3",
   "version": "3.5.4"
  }
 },
 "nbformat": 4,
 "nbformat_minor": 2
}
