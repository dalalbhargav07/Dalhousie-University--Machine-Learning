{
 "cells": [
  {
   "cell_type": "markdown",
   "metadata": {},
   "source": [
    "# Assignment 4 - Multilayer Perceptron."
   ]
  },
  {
   "cell_type": "markdown",
   "metadata": {},
   "source": [
    "## Ques. 1: \n",
    "**Implement a multi-layer perceptron (MLP) by modifying the MLP program from the class to solve the XOR problem and train it to translate the digital letters given in file pattern1 into the corresponding ASCII representation. In the file, each letter of the alphabet is represented by a matrix of 12x13 binary values so that each consecutive 12 rows represent one letter. Plot a training curve and interpret your results.**"
   ]
  },
  {
   "cell_type": "code",
   "execution_count": 1,
   "metadata": {
    "collapsed": true
   },
   "outputs": [],
   "source": [
    "import matplotlib.pyplot as plt\n",
    "import numpy as np\n",
    "from random import *\n",
    "%matplotlib inline"
   ]
  },
  {
   "cell_type": "markdown",
   "metadata": {},
   "source": [
    "Defining the input values:"
   ]
  },
  {
   "cell_type": "code",
   "execution_count": 2,
   "metadata": {
    "collapsed": true
   },
   "outputs": [],
   "source": [
    "X=np.array([[0,0,1,1],\n",
    "         [0,1,0,1],\n",
    "         [1,1,1,1]])\n",
    "Y=np.array([0,1,1,0])"
   ]
  },
  {
   "cell_type": "markdown",
   "metadata": {},
   "source": [
    "Initializing the model Parameters & Specification"
   ]
  },
  {
   "cell_type": "code",
   "execution_count": 3,
   "metadata": {
    "collapsed": true
   },
   "outputs": [],
   "source": [
    "# model specifications\n",
    "Ni=3; Nh=4; No=1;\n",
    "np.random.seed(100)\n",
    "#parameter and array initialization\n",
    "Ntrials=3500\n",
    "h=np.zeros(Nh); y=np.zeros(No)\n",
    "wh=np.random.randn(Nh,Ni); wo=np.random.randn(No,Nh) \n",
    "dwh=np.zeros(wh.shape); dwo=np.zeros(wo.shape) \n",
    "dh=np.zeros(Nh); do=np.zeros(No)\n",
    "error=np.array([])"
   ]
  },
  {
   "cell_type": "markdown",
   "metadata": {},
   "source": [
    "Training the model"
   ]
  },
  {
   "cell_type": "code",
   "execution_count": 4,
   "metadata": {
    "collapsed": true
   },
   "outputs": [],
   "source": [
    "for trial in range(Ntrials):       \n",
    "    h = 1/(1+np.exp(-wh@X))\n",
    "    y = 1/(1+np.exp(-wo@h))\n",
    "    #y = y.T\n",
    "        \n",
    "    do=y*(1-y)*(Y-y) \n",
    "    dh = (h*(1-h))*(wo.T@do)\n",
    "        \n",
    "    dwo=0.9*dwo+do@h.T\n",
    "    wo=wo+0.1*dwo\n",
    "    dwh=0.9*dwh+dh@X.T\n",
    "    wh=wh+0.1*dwh\n",
    "        \n",
    "    \n",
    "    # test all pattern    \n",
    "    h=1/(1+np.exp(-wh@X))\n",
    "    y=1/(1+np.exp(-wo@h))  \n",
    "    error = np.append(error, np.sum(abs(y - Y)))"
   ]
  },
  {
   "cell_type": "code",
   "execution_count": 5,
   "metadata": {},
   "outputs": [
    {
     "name": "stderr",
     "output_type": "stream",
     "text": [
      "C:\\Users\\dalal\\AppData\\Local\\Continuum\\anaconda3\\lib\\site-packages\\matplotlib\\figure.py:418: UserWarning: matplotlib is currently using a non-GUI backend, so cannot show the figure\n",
      "  \"matplotlib is currently using a non-GUI backend, \"\n"
     ]
    },
    {
     "data": {
      "image/png": "[encoded data removed]",
      "text/plain": [
       "<matplotlib.figure.Figure at 0x2a587e12320>"
      ]
     },
     "metadata": {},
     "output_type": "display_data"
    }
   ],
   "source": [
    "h_t=1/(1+np.exp(-wh@X))\n",
    "y_t=1/(1+np.exp(-wo@h_t))\n",
    "a = \"\"\n",
    "y_out = []\n",
    "for o in range(y_t.shape[1]):\n",
    "    a = int(round(y_t[0,o]))\n",
    "    y_out = np.append(y_out,a)\n",
    "        \n",
    "m = plt.figure(2)\n",
    "plt.plot(error)\n",
    "plt.title('Error rate of the MLP model to implement XOR')\n",
    "m.show()"
   ]
  },
  {
   "cell_type": "markdown",
   "metadata": {},
   "source": [
    "Testing the XOR"
   ]
  },
  {
   "cell_type": "code",
   "execution_count": 6,
   "metadata": {},
   "outputs": [
    {
     "name": "stdout",
     "output_type": "stream",
     "text": [
      "[ 0.  1.  1.  0.]\n"
     ]
    }
   ],
   "source": [
    "h_t=1/(1+np.exp(-wh@X))\n",
    "y_t=1/(1+np.exp(-wo@h_t))\n",
    "a = \"\"\n",
    "y_out = []\n",
    "for o in range(y_t.shape[1]):\n",
    "    a = int(round(y_t[0,o]))\n",
    "    y_out = np.append(y_out,a)\n",
    "print(y_out)"
   ]
  },
  {
   "cell_type": "markdown",
   "metadata": {},
   "source": [
    "After doing trial and errors for number of trials required to make error 0, I selected 3500 as total number of trials. As you can see from the test, the accuracy is 100%."
   ]
  },
  {
   "cell_type": "markdown",
   "metadata": {},
   "source": [
    "**Training on pattern1:**"
   ]
  },
  {
   "cell_type": "markdown",
   "metadata": {},
   "source": [
    "**How I decided the number of inital input nodes and number of hidden nodes?**"
   ]
  },
  {
   "cell_type": "markdown",
   "metadata": {},
   "source": [
    "Number of input nodes: As each character is represented by a 12 X 13 matrix and as 12*13 = 156. I have shape the data as 156,26 dimension of the X(input feature).\n",
    "\n",
    "Number of Hidden Nodes: By trial error, i tried various different rnadom values for the number of the hidded nodes. At 16, i got 100 % accuracy and hence selected 16."
   ]
  },
  {
   "cell_type": "code",
   "execution_count": 7,
   "metadata": {
    "collapsed": true
   },
   "outputs": [],
   "source": [
    "np.random.seed(100)\n",
    "def binaryToAscii(value):\n",
    "    return chr(int(value, base=2))\n",
    "\n",
    "def mlp_fit(X_train,y_train,nh):\n",
    "    Ni=156; Nh1=nh; No=7;\n",
    "    #parameter and array initialization\n",
    "    Ntrials=1000\n",
    "    h1=np.zeros(Nh1); y=np.zeros(No)\n",
    "    #h2=np.zeros(Nh2); wh2=np.random.randn(Nh2,Nh1); dwh2=np.zeros(wh2.shape); dh2=np.zeros(Nh2);\n",
    "    wh1=np.random.randn(Nh1,Ni);  wo=np.random.randn(No,Nh1) \n",
    "    dwh1=np.zeros(wh1.shape);  dwo=np.zeros(wo.shape) \n",
    "    dh1=np.zeros(Nh1);  do=np.zeros(No)  \n",
    "    error=np.array([])\n",
    "\n",
    "    for trials in range(Ntrials):\n",
    "        h1 = 1/(1+np.exp(-wh1@X_train))\n",
    "        y = 1/(1+np.exp(-wo@h1))\n",
    "        y = y.T\n",
    "        \n",
    "        do=y*(1-y)*(Y-y) \n",
    "        dh1 = (h1*(1-h1))*(wo.T@do.T)\n",
    "        \n",
    "        dwo=0.9*dwo+do.T@h1.T\n",
    "        wo=wo+0.1*dwo\n",
    "        \n",
    "        dwh1=0.9*dwh1+dh1@X_train.T\n",
    "        wh1=wh1+0.1*dwh1\n",
    "        \n",
    "        error = np.append(error, np.sum(abs(y_train - y)))\n",
    "\n",
    "    return wh1,wo,error"
   ]
  },
  {
   "cell_type": "markdown",
   "metadata": {},
   "source": [
    "Predict fn:"
   ]
  },
  {
   "cell_type": "code",
   "execution_count": 8,
   "metadata": {
    "collapsed": true
   },
   "outputs": [],
   "source": [
    "def pred(X_train,y_train,wh1,wo):\n",
    "    h_test=1/(1+np.exp(-wh1@X_train))\n",
    "    y_test=1/(1+np.exp(-wo@h_test))\n",
    "    \n",
    "\n",
    "    v= \"\"; w=\"\"\n",
    "    count = 0\n",
    "    for i,j in zip(y_test.T,y_train):\n",
    "        v = \"\"; w=\"\"\n",
    "        for k,l in zip(i,j):\n",
    "            v += str(int(round(k)))\n",
    "            w += str(int(round(l)))\n",
    "        if(v == w):\n",
    "            count+=1\n",
    "        #print(binaryToAscii(v))\n",
    "\n",
    "    acc = count/26*100\n",
    "    return acc"
   ]
  },
  {
   "cell_type": "code",
   "execution_count": 9,
   "metadata": {
    "collapsed": true
   },
   "outputs": [],
   "source": [
    "X = np.array(np.loadtxt('pattern1.txt'))\n",
    "X_train = X.reshape(156,26)\n",
    "Y = []\n",
    "for i in range(65,91):\n",
    "    Y.append([int(x) for x in list('{0:0b}'.format(i))])\n",
    "Y = np.array(Y)   \n",
    "y_train = Y.reshape(26,7)\n",
    "\n",
    "wh,wo,error = mlp_fit(X_train,y_train,16)"
   ]
  },
  {
   "cell_type": "markdown",
   "metadata": {
    "collapsed": true
   },
   "source": [
    "**Plotting the training curve**"
   ]
  },
  {
   "cell_type": "code",
   "execution_count": 10,
   "metadata": {},
   "outputs": [
    {
     "data": {
      "image/png": "[encoded data removed]",
      "text/plain": [
       "<matplotlib.figure.Figure at 0x2a588eb50f0>"
      ]
     },
     "metadata": {},
     "output_type": "display_data"
    }
   ],
   "source": [
    "plt.plot(error)\n",
    "plt.title('Training Curve for MLP model')\n",
    "plt.show()"
   ]
  },
  {
   "cell_type": "markdown",
   "metadata": {
    "collapsed": true
   },
   "source": [
    "**Accuracy of the Model**"
   ]
  },
  {
   "cell_type": "code",
   "execution_count": 11,
   "metadata": {},
   "outputs": [
    {
     "name": "stdout",
     "output_type": "stream",
     "text": [
      "The accuracy for the model is:100.0%\n",
      "Original     Predicted\n",
      "  A               A\n",
      "  B               B\n",
      "  C               C\n",
      "  D               D\n",
      "  E               E\n",
      "  F               F\n",
      "  G               G\n",
      "  H               H\n",
      "  I               I\n",
      "  J               J\n",
      "  K               K\n",
      "  L               L\n",
      "  M               M\n",
      "  N               N\n",
      "  O               O\n",
      "  P               P\n",
      "  Q               Q\n",
      "  R               R\n",
      "  S               S\n",
      "  T               T\n",
      "  U               U\n",
      "  V               V\n",
      "  W               W\n",
      "  X               X\n",
      "  Y               Y\n",
      "  Z               Z\n"
     ]
    }
   ],
   "source": [
    "acc = pred(X_train,y_train,wh,wo)\n",
    "print('The accuracy for the model is:'+ str(acc) + '%')\n",
    "#Below method is same as pred fn just wanted to print the letters also and hence called here\n",
    "print('Original     Predicted')\n",
    "h_test=1/(1+np.exp(-wh@X_train))\n",
    "y_test=1/(1+np.exp(-wo@h_test))\n",
    "v= \"\"; w=\"\"\n",
    "count = 0\n",
    "for i,j in zip(y_test.T,y_train):\n",
    "    v = \"\"; w=\"\"\n",
    "    for k,l in zip(i,j):\n",
    "        v += str(int(round(k)))\n",
    "        w += str(int(round(l)))\n",
    "    print('  '+binaryToAscii(w)+'               '+binaryToAscii(v))"
   ]
  },
  {
   "cell_type": "markdown",
   "metadata": {},
   "source": [
    "## Ques. 2: \n",
    "**Investigate how much noise the MLP can tolerate in the pattern before being unable to recognize a letter. Explain your implementation of noise and report your results.**"
   ]
  },
  {
   "cell_type": "markdown",
   "metadata": {},
   "source": [
    "**Method implemented to add the noise:** <br />\n",
    "                                 First, calculated the total number of rows(noise_r)and columns(noise_c) according to the percentage of the noise to add. Later, I have iterate the loop noise_r times and selecting the row index randomly (rand_r). Further, I have added nested loop which runs noise_c times and similarly select the coumn index(rand_c). Once the row index and column index is selcted randomly, method will flip 0 to 1 and vice versa."
   ]
  },
  {
   "cell_type": "code",
   "execution_count": 12,
   "metadata": {
    "collapsed": true
   },
   "outputs": [],
   "source": [
    "def add_noise(X_train_noise, y_train_noise,wh,wo):\n",
    "    no_acc = []\n",
    "    for noise_per in range(3,15):\n",
    "        noise_r = int(round(X_train_noise.shape[0]*noise_per/100))\n",
    "        noise_c = int(round(X_train_noise.shape[1]*noise_per/100))\n",
    "        for i in range(noise_r):\n",
    "            rand_r = np.random.randint(0,156)\n",
    "            for j in range(noise_c):\n",
    "                rand_c = np.random.randint(0,26)\n",
    "                if X_train_noise[rand_r,rand_c] == 0:\n",
    "                    X_train_noise[rand_r,rand_c]=1\n",
    "                elif X_train_noise[rand_r,rand_c] == 1:\n",
    "                    X_train_noise[rand_r,rand_c]=0\n",
    "        no_acc = np.append(no_acc,pred(X_train_noise,y_train_noise,wh,wo))\n",
    "        print('Accuracy when '+str(noise_per)+'% noise added:'+str(no_acc[-1]))\n",
    "    #print(no_acc)\n",
    "    plt.plot(no_acc)\n",
    "    plt.xlabel('Noise Percent')\n",
    "    plt.ylabel('Accuracy')\n",
    "    plt.title('Accuracy vs Noise')\n",
    "    plt.show()\n"
   ]
  },
  {
   "cell_type": "code",
   "execution_count": 13,
   "metadata": {},
   "outputs": [
    {
     "name": "stdout",
     "output_type": "stream",
     "text": [
      "Accuracy when 3% noise added:100.0\n",
      "Accuracy when 4% noise added:100.0\n",
      "Accuracy when 5% noise added:100.0\n",
      "Accuracy when 6% noise added:92.3076923077\n",
      "Accuracy when 7% noise added:92.3076923077\n",
      "Accuracy when 8% noise added:88.4615384615\n",
      "Accuracy when 9% noise added:84.6153846154\n",
      "Accuracy when 10% noise added:73.0769230769\n",
      "Accuracy when 11% noise added:73.0769230769\n",
      "Accuracy when 12% noise added:65.3846153846\n",
      "Accuracy when 13% noise added:65.3846153846\n",
      "Accuracy when 14% noise added:46.1538461538\n"
     ]
    },
    {
     "data": {
      "image/png": "[encoded data removed]",
      "text/plain": [
       "<matplotlib.figure.Figure at 0x2a589544dd8>"
      ]
     },
     "metadata": {},
     "output_type": "display_data"
    }
   ],
   "source": [
    "X_2 = np.array(np.loadtxt('pattern1.txt'))\n",
    "X_train_n = X_2.reshape(156,26)\n",
    "    \n",
    "Y_2 = []\n",
    "for i in range(65,91):\n",
    "    Y_2.append([int(x) for x in list('{0:0b}'.format(i))])\n",
    "Y_2 = np.array(Y_2)   \n",
    "y_train_n = Y_2.reshape(26,7)\n",
    "\n",
    "wh_n,wo_n,error_n = mlp_fit(X_train_n,y_train_n,16)\n",
    "\n",
    "acc_no=add_noise(X_train_n,y_train_n,wh_n,wo_n)"
   ]
  },
  {
   "cell_type": "markdown",
   "metadata": {},
   "source": [
    "It is evident from the graph that, as the noise increases the accuracy decreases. The model can give you the accuracy above 70% till 10% noise added in the data. It can also be seen from the graph that the model can predict with 100% accuracy even with 5% noisy data. However, there is steep decline in the accuracy when 14% noise is added."
   ]
  },
  {
   "cell_type": "markdown",
   "metadata": {
    "collapsed": true
   },
   "source": [
    "## Ques. 3: \n",
    "**Which letter is represented in file pattern2?**"
   ]
  },
  {
   "cell_type": "code",
   "execution_count": 15,
   "metadata": {},
   "outputs": [
    {
     "name": "stdout",
     "output_type": "stream",
     "text": [
      "Pattern is L as it is repeated 11 out of 100 times\n"
     ]
    }
   ],
   "source": [
    "from collections import Counter\n",
    "char =[]\n",
    "def most_common(lst):\n",
    "    data = Counter(lst)\n",
    "    return max(lst, key=data.get)\n",
    "X_3 = np.array(np.loadtxt('pattern2.txt'))\n",
    "X_3=X_3.reshape(156,)\n",
    "for i in range(100):\n",
    "    #Train\n",
    "    wh_3,wo_3,error_n = mlp_fit(X_train_n,y_train_n,16)\n",
    "    #pred\n",
    "   \n",
    "    b=\"\"\n",
    "    \n",
    "    h_3=1/(1+np.exp(-wh_3@X_3))\n",
    "    y_3=1/(1+np.exp(-wo_3@h_3))\n",
    "    for j in y_3:\n",
    "        b += str(int(round(j)))\n",
    "            #print(b)\n",
    "    char.append(chr(int(b,2)))\n",
    "data = Counter(char)\n",
    "p = max(char, key=data.get)\n",
    "print('Pattern is '+p+' as it is repeated '+str(data[p])+' out of 100 times')"
   ]
  },
  {
   "cell_type": "markdown",
   "metadata": {},
   "source": [
    "## Ques. 4: \n",
    "**Investigate the network performance when training on noisy patterns. Also, how does the number of hidden nodes influence the performance?**"
   ]
  },
  {
   "cell_type": "code",
   "execution_count": 16,
   "metadata": {},
   "outputs": [
    {
     "name": "stdout",
     "output_type": "stream",
     "text": [
      "Original----Predicted\n",
      "  A             E\n",
      "  B             G\n",
      "  C             C\n",
      "  D             P\n",
      "  E             Q\n",
      "  F             F\n",
      "  G             G\n",
      "  H             H\n",
      "  I             I\n",
      "  J             J\n",
      "  K             K\n",
      "  L             X\n",
      "  M             M\n",
      "  N             L\n",
      "  O             O\n",
      "  P             P\n",
      "  Q             Q\n",
      "  R             S\n",
      "  S             T\n",
      "  T             T\n",
      "  U             U\n",
      "  V             V\n",
      "  W             R\n",
      "  X             X\n",
      "  Y             Y\n",
      "  Z             M\n"
     ]
    }
   ],
   "source": [
    "from random import *\n",
    "X_4 = np.array(np.loadtxt('pattern1.txt'))\n",
    "X_train_4 = X_4.reshape(156,26)\n",
    "Y_4 = []\n",
    "for i in range(65,91):\n",
    "    Y_4.append([int(x) for x in list('{0:0b}'.format(i))])\n",
    "Y_4 = np.array(Y_4)   \n",
    "y_train_4 = Y_4.reshape(26,7)\n",
    "\n",
    "#Adding the noise:\n",
    "noise_c = int(round(X_train_4.shape[1]*9/100))\n",
    "for i in range(10):\n",
    "    for i in range(noise_c):\n",
    "        rand_c = randint(0,25)\n",
    "        for i in range(10):\n",
    "            rand_r = randint(0,155)\n",
    "            if X_train_4[rand_r,rand_c] == 0:\n",
    "                X_train_4[rand_r,rand_c]=1\n",
    "            elif X_train_4[rand_r,rand_c] == 1:\n",
    "                X_train_4[rand_r,rand_c]=0\n",
    "#Fitting on the noisy data set\n",
    "wh_4,wo_4,error_4 = mlp_fit(X_train_4,y_train_4,16)\n",
    "\n",
    "\n",
    "#Prediction:\n",
    "h_test_4=1/(1+np.exp(-wh_4@X_train))\n",
    "y_test_4=1/(1+np.exp(-wo_4@h_test_4))    \n",
    "v_4= \"\"; w_4=\"\"\n",
    "count = 0\n",
    "print('Original----Predicted')\n",
    "for i,j in zip(y_test_4.T,y_train_4):\n",
    "    v_4 = \"\"; w_4 =\"\"\n",
    "    for k,l in zip(i,j):\n",
    "        v_4 += str(int(round(k)))\n",
    "        w_4 += str(int(round(l)))\n",
    "    if(v_4 == w_4):\n",
    "        count+=1\n",
    "    print('  '+binaryToAscii(w_4)+'             '+binaryToAscii(v_4))\n",
    "\n",
    "acc = count/26*100"
   ]
  },
  {
   "cell_type": "code",
   "execution_count": 17,
   "metadata": {},
   "outputs": [
    {
     "name": "stdout",
     "output_type": "stream",
     "text": [
      "Accuracy after training on noisy data and predicting on the actual data(pattern1): 61.53846153846154\n"
     ]
    }
   ],
   "source": [
    "print('Accuracy after training on noisy data and predicting on the actual data(pattern1):',acc)"
   ]
  },
  {
   "cell_type": "markdown",
   "metadata": {},
   "source": [
    "There is decrease in the accuracy of the prediction. The reason for decline is the weights obtain from training also contains noise. When the training data contains noise, the parameters of the model also consist the noise (in our scenario wieghts).\n",
    "Thus, the noisy wieghts will affect the overall accuracy of the model."
   ]
  },
  {
   "cell_type": "markdown",
   "metadata": {},
   "source": [
    "### Hidden Nodes:"
   ]
  },
  {
   "cell_type": "markdown",
   "metadata": {},
   "source": [
    "#### 10 hidden nodes"
   ]
  },
  {
   "cell_type": "code",
   "execution_count": 18,
   "metadata": {},
   "outputs": [
    {
     "name": "stdout",
     "output_type": "stream",
     "text": [
      "Accuracy: 57.692307692307686\n"
     ]
    },
    {
     "data": {
      "image/png": "[encoded data removed]",
      "text/plain": [
       "<matplotlib.figure.Figure at 0x2a5894b3f98>"
      ]
     },
     "metadata": {},
     "output_type": "display_data"
    }
   ],
   "source": [
    "wh_20,wo_20,error_20 = mlp_fit(X_train_4,y_train_4,10)\n",
    "\n",
    "\n",
    "#Prediction:\n",
    "acc = pred(X_train,y_train,wh_20,wo_20)\n",
    "print('Accuracy:', acc)\n",
    "plt.plot(error_20)\n",
    "plt.title('Training Curve for MLP model')\n",
    "plt.show()"
   ]
  },
  {
   "cell_type": "markdown",
   "metadata": {},
   "source": [
    "#### 26 hidden nodes"
   ]
  },
  {
   "cell_type": "code",
   "execution_count": 19,
   "metadata": {},
   "outputs": [
    {
     "name": "stdout",
     "output_type": "stream",
     "text": [
      "Accuracy: 80.76923076923077\n"
     ]
    },
    {
     "data": {
      "image/png": "[encoded data removed]",
      "text/plain": [
       "<matplotlib.figure.Figure at 0x2a5895c6c18>"
      ]
     },
     "metadata": {},
     "output_type": "display_data"
    }
   ],
   "source": [
    "wh_26,wo_26,error_26 = mlp_fit(X_train_4,y_train_4,26)\n",
    "\n",
    "\n",
    "#Prediction:\n",
    "acc = pred(X_train,y_train,wh_26,wo_26)\n",
    "print('Accuracy:', acc)\n",
    "plt.plot(error_26)\n",
    "plt.title('Training Curve for MLP model')\n",
    "plt.show()"
   ]
  },
  {
   "cell_type": "markdown",
   "metadata": {},
   "source": [
    "#### 130 hidden nodes"
   ]
  },
  {
   "cell_type": "code",
   "execution_count": 21,
   "metadata": {},
   "outputs": [
    {
     "name": "stdout",
     "output_type": "stream",
     "text": [
      "Accuracy: 76.92307692307693\n"
     ]
    },
    {
     "data": {
      "image/png": "[encoded data removed]",
      "text/plain": [
       "<matplotlib.figure.Figure at 0x2a589433e48>"
      ]
     },
     "metadata": {},
     "output_type": "display_data"
    }
   ],
   "source": [
    "wh_130,wo_130,error_130 = mlp_fit(X_train_4,y_train_4,130)\n",
    "\n",
    "\n",
    "#Prediction:\n",
    "acc = pred(X_train,y_train,wh_130,wo_130)\n",
    "print('Accuracy:', acc)\n",
    "plt.plot(error_130)\n",
    "plt.title('Training Curve for MLP model')\n",
    "plt.show()"
   ]
  },
  {
   "cell_type": "code",
   "execution_count": 22,
   "metadata": {},
   "outputs": [
    {
     "data": {
      "image/png": "[encoded data removed]",
      "text/plain": [
       "<matplotlib.figure.Figure at 0x2a58965ed68>"
      ]
     },
     "metadata": {},
     "output_type": "display_data"
    }
   ],
   "source": [
    "acc=np.array([])\n",
    "for i in range(160):\n",
    "    wh_h,wo_h,error_h = mlp_fit(X_train_4,y_train_4,i)\n",
    "\n",
    "\n",
    "    #Prediction:\n",
    "    acc = np.append(acc,pred(X_train,y_train,wh_h,wo_h))\n",
    "    #print('Accuracy:', acc)\n",
    "plt.plot(acc)\n",
    "plt.title('Accuracy vs NUmber of hidden nodes')\n",
    "plt.xlabel('Number of hidden nodes')\n",
    "plt.ylabel('Accuracy')\n",
    "plt.show()"
   ]
  },
  {
   "cell_type": "markdown",
   "metadata": {},
   "source": [
    "The above graph is the representation of the calculated accuracy for different number of nodes in the hidden layer f the model. The hidden number of nodes is selected in range of 0-150. It is evident from the figure that the accuracy remains less uptil 20 nodes. However, the accuracy is increasing and decreasing abruptly around 60-70% when the number of nodes is more than 20. But, the best value for the number of nodes in the hidden layer is either around 26 or 130. It can give the accuracy above 70%."
   ]
  }
 ],
 "metadata": {
  "kernelspec": {
   "display_name": "Python 3",
   "language": "python",
   "name": "python3"
  },
  "language_info": {
   "codemirror_mode": {
    "name": "ipython",
    "version": 3
   },
   "file_extension": ".py",
   "mimetype": "text/x-python",
   "name": "python",
   "nbconvert_exporter": "python",
   "pygments_lexer": "ipython3",
   "version": "3.6.3"
  }
 },
 "nbformat": 4,
 "nbformat_minor": 2
}
